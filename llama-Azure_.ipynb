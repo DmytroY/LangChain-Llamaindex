{
 "cells": [
  {
   "cell_type": "markdown",
   "metadata": {},
   "source": [
    "LlamaIndex with Azure OpenAI inference API"
   ]
  },
  {
   "cell_type": "code",
   "execution_count": null,
   "metadata": {},
   "outputs": [],
   "source": [
    "%pip install llama-index llama-index-llms-azure-inference llama-index-embeddings-azure-inference"
   ]
  },
  {
   "cell_type": "code",
   "execution_count": 7,
   "metadata": {},
   "outputs": [
    {
     "name": "stdout",
     "output_type": "stream",
     "text": [
      "gpt-35-turbo\n",
      "<your-model-endpoint-goes-here>\n"
     ]
    }
   ],
   "source": [
    "# I will keep API keys in .env file\n",
    "import os\n",
    "from dotenv import load_dotenv\n",
    "\n",
    "load_dotenv()\n",
    "print(os.getenv(\"AZURE_OPENAI_DEPLOYMENT_NAME\"))\n",
    "print(os.environ[\"AZURE_INFERENCE_ENDPOINT\"])"
   ]
  },
  {
   "cell_type": "code",
   "execution_count": 50,
   "metadata": {},
   "outputs": [],
   "source": [
    "# Create a client to connect to the endpoint:\n",
    "\n",
    "from llama_index.llms.azure_inference import AzureAICompletionsModel\n",
    "\n",
    "llm = AzureAICompletionsModel(\n",
    "    #endpoint=os.environ[\"AZURE_INFERENCE_ENDPOINT\"],\n",
    "    # endpoint=os.getenv(\"AZURE_INFERENCE_ENDPOINT\"),\n",
    "    # credential=os.getenv(\"AZURE_INFERENCE_CREDENTIAL\"),\n",
    "    # endpoint=\"https://dmitr-m1q9cxme-francecentral.openai.azure.com/openai/deployments/gpt-35-turbo/chat/completions?api-version=2024-02-15-preview\"\n",
    "    endpoint=\"https://dmitr-m1q9cxme-francecentral.openai.azure.com/\",\n",
    "    credential=\"216c776191104b86a014089dc303d4ac\",\n",
    "    model_name=\"gpt-35-turbo\",\n",
    "    api_version=\"2024-02-15-preview\",\n",
    "    \n",
    ")"
   ]
  },
  {
   "cell_type": "code",
   "execution_count": 52,
   "metadata": {},
   "outputs": [
    {
     "ename": "SyntaxError",
     "evalue": "invalid syntax. Maybe you meant '==' or ':=' instead of '='? (1226010550.py, line 4)",
     "output_type": "error",
     "traceback": [
      "\u001b[1;36m  Cell \u001b[1;32mIn[52], line 4\u001b[1;36m\u001b[0m\n\u001b[1;33m    api_version=\"2024-02-15-preview\",\u001b[0m\n\u001b[1;37m    ^\u001b[0m\n\u001b[1;31mSyntaxError\u001b[0m\u001b[1;31m:\u001b[0m invalid syntax. Maybe you meant '==' or ':=' instead of '='?\n"
     ]
    }
   ],
   "source": [
    "from llama_index.core.llms import ChatMessage\n",
    "\n",
    "messages = [\n",
    "    \n",
    "    ChatMessage(\n",
    "        role=\"system\", content=\"You are a pirate with colorful personality.\"\n",
    "    ),\n",
    "    ChatMessage(role=\"user\", content=\"Hello\"),\n",
    "]\n",
    "\n",
    "response = llm.chat(messages)\n",
    "print(response)"
   ]
  },
  {
   "cell_type": "code",
   "execution_count": null,
   "metadata": {},
   "outputs": [],
   "source": []
  }
 ],
 "metadata": {
  "kernelspec": {
   "display_name": "Python 3",
   "language": "python",
   "name": "python3"
  },
  "language_info": {
   "codemirror_mode": {
    "name": "ipython",
    "version": 3
   },
   "file_extension": ".py",
   "mimetype": "text/x-python",
   "name": "python",
   "nbconvert_exporter": "python",
   "pygments_lexer": "ipython3",
   "version": "3.12.6"
  }
 },
 "nbformat": 4,
 "nbformat_minor": 2
}
